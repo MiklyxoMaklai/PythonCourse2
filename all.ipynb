{
 "cells": [
  {
   "cell_type": "code",
   "execution_count": 439,
   "metadata": {},
   "outputs": [
    {
     "name": "stdout",
     "output_type": "stream",
     "text": [
      "{'ArithmeticError': [], 'ZeroDivisionError': ['ArithmeticError'], 'OSError': [], 'FileNotFoundError': ['OSError']}\n",
      "3\n",
      "OSError\n",
      "FileNotFoundError\n",
      "Yes\n",
      "FileNotFoundError\n",
      "{'OSError': True, 'FileNotFoundError': False}\n"
     ]
    }
   ],
   "source": [
    "lst_mro = [  # список введённых строк\n",
    "    'ArithmeticError',\n",
    "    'ZeroDivisionError : ArithmeticError',\n",
    "    'OSError',\n",
    "    'FileNotFoundError : OSError'\n",
    "]\n",
    "\n",
    "lst_q = [  # список введённых запросов\n",
    "    'ZeroDivisionError',\n",
    "    'OSError',\n",
    "    'ArithmeticError',\n",
    "    'FileNotFoundError'\n",
    "]\n",
    "\n",
    "def fin(cl1, cl2):\n",
    "    if cl1 not in classes:\n",
    "        return False\n",
    "#     if cl1 == cl2:\n",
    "#         return True\n",
    "    for i in classes[cl1]:\n",
    "        if i == cl2:\n",
    "            return True\n",
    "        if fin(i, cl2):\n",
    "            return True\n",
    "\n",
    "\n",
    "# n = int(input())\n",
    "\n",
    "classes = {}\n",
    "exp = {}\n",
    "# while n != 0:\n",
    "#     n -= 1\n",
    "for k in lst_mro:\n",
    "#     line = input().split(' ')\n",
    "    line = k.split(' ')\n",
    "    cl = line[0]\n",
    "    cs = []\n",
    "    if ':' in line:\n",
    "        cs = line[2::]\n",
    "    classes[cl] = cs\n",
    "\n",
    "print(classes)\n",
    "n = int(input())\n",
    "while n != 0:\n",
    "    n -= 1\n",
    "    c = input().strip()\n",
    "    if c not in exp:\n",
    "        exp[c] = True\n",
    "    for err in exp:\n",
    "#     fin(child, parent)\n",
    "        if fin(c, err) and exp[c]:\n",
    "            exp[c] = False\n",
    "            print(c)\n",
    "\n",
    "print(exp)\n",
    "\n",
    "\n",
    "# 'ZeroDivisionError',\n",
    "# 'OSError',\n",
    "# 'ArithmeticError',\n",
    "# 'FileNotFoundError'"
   ]
  },
  {
   "cell_type": "code",
   "execution_count": 264,
   "metadata": {},
   "outputs": [
    {
     "name": "stdout",
     "output_type": "stream",
     "text": [
      "Z : 10\n",
      "Z : 5\n",
      "Z : 5\n",
      "Z : 4\n",
      "Z : 1\n",
      "Z : 2\n",
      "Z : 1\n",
      "Z : 2\n",
      "Z : 1\n",
      "Z : 5\n",
      "Z : 3\n",
      "Z : 3\n"
     ]
    }
   ],
   "source": [
    "import json\n",
    "\n",
    "js = [  # тестовый граф наследования в виде json-объекта\n",
    "    {'name': 'G', 'parents': ['F']},  # сначала отнаследуем от F, потом его объявим: корректный алгоритм все равно правильно обойдёт граф, независимо что было раньше: наследование или объявление\n",
    "    {'name': 'A', 'parents': []},\n",
    "    {'name': 'B', 'parents': ['A']},\n",
    "    {'name': 'C', 'parents': ['A']},\n",
    "    {'name': 'D', 'parents': ['B', 'C']},\n",
    "    {'name': 'E', 'parents': ['D']},\n",
    "    {'name': 'F', 'parents': ['D']},\n",
    "    # а теперь другая ветка наследования\n",
    "    {'name': 'X', 'parents': []},\n",
    "    {'name': 'Y', 'parents': ['X', 'A']},  # свяжем две ветки наследования для проверки, обошла ли рекурсия предков Z и предков Y в поисках A\n",
    "    {'name': 'Z', 'parents': ['X']},\n",
    "    {'name': 'V', 'parents': ['Z', 'Y']},\n",
    "    {'name': 'W', 'parents': ['V']},\n",
    "]   \n",
    "    \n",
    "data = js #json.loads(js)\n",
    "classes = {}\n",
    "\n",
    "\n",
    "def fin(cl1, cl2):\n",
    "    if cl1 not in classes:\n",
    "        return False\n",
    "    if cl1 == cl2:\n",
    "        return True\n",
    "    for i in classes[cl1]:\n",
    "        if i == cl2:\n",
    "            return True\n",
    "        if fin(i, cl2):\n",
    "            return True\n",
    "\n",
    "\n",
    "\n",
    "for dat in data:\n",
    "    classes[dat['name']] = dat['parents']\n",
    "\n",
    "for clss in sorted(classes):\n",
    "    cnt = 0\n",
    "    for parent in sorted(classes):\n",
    "        if fin(parent, clss):\n",
    "            cnt += 1\n",
    "    print(cl, ':', cnt)\n",
    "\n",
    "# A : 10\n",
    "# B : 5\n",
    "# C : 5\n",
    "# D : 4\n",
    "# E : 1\n",
    "# F : 2\n",
    "# G : 1\n",
    "# V : 2\n",
    "# W : 1\n",
    "# X : 5\n",
    "# Y : 3\n",
    "# Z : 3\n",
    "\n"
   ]
  },
  {
   "cell_type": "code",
   "execution_count": 190,
   "metadata": {},
   "outputs": [
    {
     "name": "stdout",
     "output_type": "stream",
     "text": [
      "True\n",
      "False\n",
      "True\n"
     ]
    }
   ],
   "source": [
    "def mod_checker(x, mod=0):\n",
    "    return lambda y: y % x == mod\n",
    "    \n",
    "mod_3 = mod_checker(3)\n",
    "\n",
    "print(mod_3(3)) # True\n",
    "print(mod_3(4)) # False\n",
    "\n",
    "mod_3_1 = mod_checker(3, 1)\n",
    "print(mod_3_1(4)) # True"
   ]
  },
  {
   "cell_type": "code",
   "execution_count": 185,
   "metadata": {},
   "outputs": [
    {
     "name": "stdout",
     "output_type": "stream",
     "text": [
      "13 6 9\n"
     ]
    }
   ],
   "source": [
    "import xml.etree.ElementTree as ET\n",
    "\n",
    "lvl = 1\n",
    "score = {'red': 0, 'green': 0, 'blue': 0}\n",
    "xml = '<cube color=\"blue\"><cube color=\"red\"><cube color=\"green\"><cube color=\"blue\"><cube color=\"red\"><cube color=\"red\"></cube></cube></cube></cube></cube><cube color=\"blue\"><cube color=\"green\"></cube></cube><cube color=\"blue\"></cube></cube>'\n",
    "#  13 6 9\n",
    "def getScore(elem, lv):\n",
    "    lv += 1\n",
    "    score[elem.attrib['color']] += lv\n",
    "    for el in elem:\n",
    "        getScore(el, lv)\n",
    "    \n",
    "root = ET.fromstring(xml)\n",
    "score[root.attrib['color']] = lvl\n",
    "for child in root:\n",
    "    getScore(child, lvl)\n",
    "    \n",
    "print(score['red'], score['green'], score['blue'])"
   ]
  },
  {
   "cell_type": "code",
   "execution_count": 155,
   "metadata": {},
   "outputs": [
    {
     "name": "stdout",
     "output_type": "stream",
     "text": [
      "Abondio Antonio\n",
      "Abbey Edwin Austin\n",
      "Abt Otto\n",
      "Abedin Zainul\n",
      "Aarons Slim\n",
      "Abakanowicz Magdalena\n",
      "Abegg Jimmy\n",
      "à Wengen Stefan\n",
      "Abts Tomma\n",
      "A. Westerhuis Ronald\n",
      "Abboud Jumana Emil\n",
      "Syed Abdullah  M. I.\n",
      "3TTMan\n",
      "Abrahams Johnny\n",
      "Acosta Pavel\n"
     ]
    }
   ],
   "source": [
    "import requests\n",
    "\n",
    "\n",
    "artData = {}\n",
    "params = {\n",
    "    'client_id': '555e4e5786f55478f147',\n",
    "    'client_secret': '1f414d19d8458feb9cdd3e9735b75461'\n",
    "}\n",
    "# инициируем запрос на получение токена\n",
    "r = requests.post('https://api.artsy.net/api/tokens/xapp_token', params).json()\n",
    "\n",
    "# достаем токен\n",
    "token = r['token']\n",
    "\n",
    "# print(token)\n",
    "\n",
    "# создаем заголовок, содержащий наш токен\n",
    "headers = {'X-Xapp-Token' : token}\n",
    "\n",
    "with open('dataset_24476_4.txt') as text:\n",
    "    for aid in text:\n",
    "        # инициируем запрос с заголовком\n",
    "        artist = requests.get('https://api.artsy.net/api/artists/' + aid.strip(), headers=headers).json()\n",
    "        # разбираем ответ сервера\n",
    "        if int(artist['birthday']) in artData:\n",
    "            artData[int(artist['birthday'])] += [artist['sortable_name']]\n",
    "        else:\n",
    "            artData[int(artist['birthday'])] = [artist['sortable_name']]\n",
    "\n",
    "list_keys = list(artData.keys())\n",
    "list_keys.sort()\n",
    "for i in list_keys:\n",
    "    print('\\n'.join(sorted(artData[i])))"
   ]
  },
  {
   "cell_type": "code",
   "execution_count": 119,
   "metadata": {},
   "outputs": [
    {
     "name": "stdout",
     "output_type": "stream",
     "text": [
      "Boring\n",
      "Interesting\n",
      "Boring\n",
      "Boring\n",
      "Boring\n",
      "Interesting\n",
      "Interesting\n",
      "Boring\n",
      "Boring\n",
      "Boring\n",
      "Interesting\n",
      "Interesting\n",
      "Interesting\n",
      "Interesting\n",
      "Interesting\n"
     ]
    }
   ],
   "source": [
    "import requests\n",
    "\n",
    "\n",
    "url = 'http://numbersapi.com/'\n",
    "params = {\n",
    "    'json': True\n",
    "}\n",
    "\n",
    "with open('dataset_24476_3.txt') as numbers:\n",
    "    for number in numbers:\n",
    "        resp = requests.get(url + number.rstrip() + '/math', params)\n",
    "        data = resp.json()\n",
    "        if data['found']:\n",
    "            print('Interesting')\n",
    "        else:\n",
    "            print('Boring')\n"
   ]
  },
  {
   "cell_type": "code",
   "execution_count": 108,
   "metadata": {},
   "outputs": [
    {
     "name": "stdout",
     "output_type": "stream",
     "text": [
      "254 NARCOTICS\n",
      "473 BATTERY\n",
      "297 CRIMINAL DAMAGE\n",
      "175 ASSAULT\n",
      "140 DECEPTIVE PRACTICE\n",
      "596 THEFT\n",
      "88 ROBBERY\n",
      "13 INTERFERENCE WITH PUBLIC OFFICER\n",
      "14 PROSTITUTION\n",
      "64 CRIMINAL TRESPASS\n",
      "132 BURGLARY\n",
      "179 OTHER OFFENSE\n",
      "28 PUBLIC PEACE VIOLATION\n",
      "123 MOTOR VEHICLE THEFT\n",
      "18 OFFENSE INVOLVING CHILDREN\n",
      "28 WEAPONS VIOLATION\n",
      "17 CRIM SEXUAL ASSAULT\n",
      "2 INTIMIDATION\n",
      "9 SEX OFFENSE\n",
      "2 KIDNAPPING\n",
      "2 STALKING\n",
      "2 GAMBLING\n",
      "4 LIQUOR LAW VIOLATION\n",
      "3 ARSON\n",
      "5 HOMICIDE\n"
     ]
    }
   ],
   "source": [
    "import csv\n",
    "from dateutil import parser\n",
    "\n",
    "crim2015 = {}\n",
    "with open('crimes.csv') as crim:\n",
    "    for crInfo in csv.DictReader(crim, delimiter=','):\n",
    "        dt = parser.parse(crInfo['Date'])\n",
    "        if dt.year == 2015:\n",
    "            if crInfo['Primary Type'] in crim2015:\n",
    "                crim2015[crInfo['Primary Type']] += 1\n",
    "            else:\n",
    "                crim2015[crInfo['Primary Type']] = 1\n",
    "for i, v in crim2015.items():\n",
    "    print(v, i)"
   ]
  },
  {
   "cell_type": "code",
   "execution_count": 71,
   "metadata": {},
   "outputs": [
    {
     "name": "stdout",
     "output_type": "stream",
     "text": [
      "https://ya.ru\n",
      "mail.yandex.ru\n"
     ]
    }
   ],
   "source": [
    "import requests\n",
    "import re\n",
    "\n",
    "\n",
    "getLinks = requests.get(input().strip())\n",
    "links = re.findall(r'<\\s*a.*?((?:\\w+\\.)+\\w+).*', getLinks.text)\n",
    "links.sort()\n",
    "print('\\n'.join(links))\n"
   ]
  },
  {
   "cell_type": "code",
   "execution_count": 45,
   "metadata": {},
   "outputs": [
    {
     "name": "stdout",
     "output_type": "stream",
     "text": [
      "Yes\n"
     ]
    }
   ],
   "source": [
    "import requests\n",
    "import re\n",
    "\n",
    "link1 = 'https://stepic.org/media/attachments/lesson/24472/sample1.html' #input().strip()\n",
    "link2 = 'https://stepic.org/media/attachments/lesson/24472/sample2.html' #input().strip()\n",
    "yes = False\n",
    "\n",
    "def getLinks(lnk):\n",
    "    rObj = requests.get(lnk)\n",
    "    if rObj.status_code == 404:\n",
    "        return []\n",
    "    return re.findall(r'href=\"(.*)\"', rObj.text)\n",
    "\n",
    "\n",
    "# print(getLinks(link1))\n",
    "for p in range(2):\n",
    "    for k in getLinks(link1):\n",
    "        if link2 in getLinks(k) and not yes:\n",
    "            print('Yes')\n",
    "            yes = True\n",
    "            break\n",
    "if not yes:\n",
    "    print('No')\n"
   ]
  },
  {
   "cell_type": "code",
   "execution_count": 107,
   "metadata": {},
   "outputs": [
    {
     "name": "stdout",
     "output_type": "stream",
     "text": [
      "buz\n"
     ]
    }
   ],
   "source": [
    "import re\n",
    "\n",
    "t = 'buzzzz'\n",
    "\n",
    "print(re.sub(r'(\\w)\\1+', '\\\\1', t))"
   ]
  },
  {
   "cell_type": "code",
   "execution_count": 57,
   "metadata": {},
   "outputs": [
    {
     "name": "stdout",
     "output_type": "stream",
     "text": [
      "3\n"
     ]
    }
   ],
   "source": [
    "s = input().strip()\n",
    "t = input().strip()\n",
    "cnt = 0\n",
    "pos = 0\n",
    "while True:\n",
    "    pos = s.find(t, pos)\n",
    "    if pos == -1:\n",
    "        break\n",
    "    pos += 1\n",
    "    cnt += 1\n",
    "print(cnt)"
   ]
  },
  {
   "cell_type": "code",
   "execution_count": 51,
   "metadata": {},
   "outputs": [
    {
     "name": "stdout",
     "output_type": "stream",
     "text": [
      "Impossible\n"
     ]
    }
   ],
   "source": [
    "s = input().strip()\n",
    "a = input().strip()\n",
    "b = input().strip()\n",
    "cnt = 0\n",
    "\n",
    "while True:\n",
    "    if cnt >= 1000:\n",
    "        cnt = 'Impossible'\n",
    "        break\n",
    "    if a in s:\n",
    "        s = s.replace(a, b)\n",
    "        cnt += 1\n",
    "    else:\n",
    "        break\n",
    "\n",
    "print(cnt)"
   ]
  },
  {
   "cell_type": "code",
   "execution_count": 35,
   "metadata": {},
   "outputs": [],
   "source": [
    "import os\n",
    "import os.path\n",
    "\n",
    "pth = set()\n",
    "for curDir, dirs, files in os.walk('main'):\n",
    "    for fl in files:\n",
    "        if fl[-3:] == '.py':\n",
    "            pth.add(curDir)\n",
    "\n",
    "with open('dirsPy.txt', 'w') as dr:\n",
    "    dr.write('\\n'.join(sorted(pth)))\n"
   ]
  },
  {
   "cell_type": "code",
   "execution_count": 16,
   "metadata": {},
   "outputs": [],
   "source": [
    "# Reverse file data\n",
    "txt = []\n",
    "with open('dat.txt') as intxt, open('outdata.txt', 'w') as outxt:\n",
    "    for line in intxt:\n",
    "        txt.append(line.strip())\n",
    "    txt.reverse()\n",
    "    outxt.write('\\n'.join(txt))\n",
    "    "
   ]
  },
  {
   "cell_type": "code",
   "execution_count": 9,
   "metadata": {},
   "outputs": [
    {
     "name": "stdout",
     "output_type": "stream",
     "text": [
      "[2, 3, 5, 7, 11, 13, 17, 19, 23, 29, 31, 37, 41, 43, 47, 53, 59, 61, 67, 71, 73, 79, 83, 89, 97, 101, 103, 107, 109, 113, 127, 131, 137, 139, 149, 151, 157, 163, 167, 173, 179, 181, 191, 193, 197, 199, 211, 223, 227, 229, 233, 239, 241, 251, 257, 263, 269, 271, 277, 281, 283, 293, 307, 311, 313, 317, 331, 337, 347, 349, 353, 359, 367, 373, 379, 383, 389, 397, 401, 409, 419, 421, 431, 433, 439, 443, 449, 457, 461, 463, 467, 479, 487, 491, 499, 503, 509, 521, 523, 541, 547, 557, 563, 569, 571, 577, 587, 593, 599, 601, 607, 613, 617, 619, 631, 641, 643, 647, 653, 659, 661, 673, 677, 683, 691, 701, 709, 719, 727, 733, 739, 743, 751, 757, 761, 769, 773, 787, 797, 809, 811, 821, 823, 827, 829, 839, 853, 857, 859, 863, 877, 881, 883, 887, 907, 911, 919, 929, 937, 941, 947, 953, 967, 971, 977, 983, 991, 997]\n"
     ]
    }
   ],
   "source": [
    "import itertools\n",
    "\n",
    "def primes():\n",
    "    a = 0\n",
    "    i = 1\n",
    "    c = 1\n",
    "    while True:\n",
    "        for k in range(1, c + 1):\n",
    "            if i % k == 0:\n",
    "                a += 1\n",
    "        if a == 2:\n",
    "            yield i\n",
    "        i += 1\n",
    "        c += 1\n",
    "        a = 0\n",
    "            \n",
    "\n",
    "\n",
    "print(list(itertools.takewhile(lambda x : x <= 1000, primes())))\n",
    "# [2, 3, 5, 7, 11, 13, 17, 19, 23, 29, 31]\n",
    "# fD~,a@3J_4\n"
   ]
  },
  {
   "cell_type": "code",
   "execution_count": 52,
   "metadata": {},
   "outputs": [
    {
     "name": "stdout",
     "output_type": "stream",
     "text": [
      "[0, 2, 3, 4, 5, 6, 8, 9, 10, 12, 14, 15, 16, 18, 20, 21, 22, 24, 25, 26, 27, 28, 30]\n",
      "[0, 6, 10, 12, 15, 18, 20, 24, 30]\n",
      "[0, 30]\n"
     ]
    }
   ],
   "source": [
    "class multifilter:\n",
    "    def judge_half(pos, neg):\n",
    "        return pos >= neg\n",
    "        \n",
    "\n",
    "    def judge_any(pos, neg):\n",
    "        return pos >= 1\n",
    "        \n",
    "\n",
    "    def judge_all(pos, neg):\n",
    "        return neg == 0\n",
    "    \n",
    "\n",
    "    def __init__(self, iterable, *funcs, judge=judge_any):\n",
    "        self.iter = iterable\n",
    "        self.fn = funcs\n",
    "        self.jdg = judge\n",
    "\n",
    "    \n",
    "    def __iter__(self):\n",
    "        for i in self.iter:\n",
    "            rslFun = [f(i) for f in self.fn]\n",
    "            pos = rslFun.count(True)\n",
    "            neg = rslFun.count(False)\n",
    "            if self.jdg(pos, neg):\n",
    "                yield i\n",
    "\n",
    "\n",
    "def mul2(x):\n",
    "    return x % 2 == 0\n",
    "\n",
    "def mul3(x):\n",
    "    return x % 3 == 0\n",
    "\n",
    "def mul5(x):\n",
    "    return x % 5 == 0\n",
    "\n",
    "\n",
    "a = [i for i in range(31)] # [0, 1, 2, ... , 30]\n",
    "\n",
    "print(list(multifilter(a, mul2, mul3, mul5)))\n",
    "# [0, 2, 3, 4, 5, 6, 8, 9, 10, 12, 14, 15, 16, 18, 20, 21, 22, 24, 25, 26, 27, 28, 30]\n",
    "\n",
    "print(list(multifilter(a, mul2, mul3, mul5, judge=multifilter.judge_half))) \n",
    "# [0, 6, 10, 12, 15, 18, 20, 24, 30]\n",
    "\n",
    "print(list(multifilter(a, mul2, mul3, mul5, judge=multifilter.judge_all))) \n",
    "# [0, 30]"
   ]
  },
  {
   "cell_type": "code",
   "execution_count": 33,
   "metadata": {},
   "outputs": [
    {
     "name": "stdout",
     "output_type": "stream",
     "text": [
      "ERROR\n",
      "ERROR\n",
      "ERROR\n",
      "ERROR\n",
      "Alice loves Bob\n",
      "ERROR\n",
      "ERROR\n",
      "ERROR\n",
      "ERROR\n",
      "ERROR\n"
     ]
    }
   ],
   "source": [
    "import simplecrypt as smcr\n",
    "\n",
    "encrypted = 0\n",
    "with open('encrypted.bin', 'rb') as bn:\n",
    "    encrypted = bn.read()\n",
    "\n",
    "with open('passwords.txt') as pss:\n",
    "#     //mystring = decrypt('password', ciphertext).decode('utf8')\n",
    "    for pas in pss:\n",
    "        pas = pas.strip()\n",
    "        try:\n",
    "            print(smcr.decrypt(pas, encrypted).decode('utf8'))\n",
    "        except:\n",
    "            print('ERROR')\n",
    "            continue\n"
   ]
  },
  {
   "cell_type": "code",
   "execution_count": 15,
   "metadata": {},
   "outputs": [
    {
     "name": "stdout",
     "output_type": "stream",
     "text": [
      "2019 8 6\n",
      "14\n",
      "2019 8 20\n"
     ]
    }
   ],
   "source": [
    "import datetime\n",
    "\n",
    "y, m, d = input().split()\n",
    "dp = int(input())\n",
    "dt = datetime.date(int(y), int(m), int(d)) + datetime.timedelta(days = dp)\n",
    "print(dt.year, dt.month, dt.day)"
   ]
  },
  {
   "cell_type": "code",
   "execution_count": 256,
   "metadata": {},
   "outputs": [
    {
     "name": "stdout",
     "output_type": "stream",
     "text": [
      "1 1 ----> No\n",
      "X X ----> Yes\n",
      "A X ----> No\n",
      "X QWE ----> No\n",
      "cl V X\n",
      "cl Z X\n",
      "cl X X\n",
      "X W ----> Yes\n",
      "cl V A\n",
      "cl Z A\n",
      "cl X A\n",
      "cl Y A\n",
      "cl X A\n",
      "cl A A\n",
      "A W ----> Yes\n",
      "cl X A\n",
      "A Z ----> No\n",
      "cl F A\n",
      "cl D A\n",
      "cl B A\n",
      "cl A A\n",
      "A G ----> Yes\n"
     ]
    }
   ],
   "source": [
    "lst_mro = [  # список введённых строк\n",
    "    'G : F',  # сначала отнаследуем от F, потом его объявим, корректный алгоритм все равно правильно обойдёт граф, независимо что было раньше: наследование или объявление\n",
    "    'A',\n",
    "    'B : A',\n",
    "    'C : A',\n",
    "    'D : B C',\n",
    "    'E : D',\n",
    "    'F : D',\n",
    "    # а теперь другая ветка наследования\n",
    "    'X',\n",
    "    'Y : X A',  # свяжем две ветки наследования для проверки, обошла ли рекурсия предков Z и предков Y в поисках A\n",
    "    'Z : X',\n",
    "    'V : Z Y',\n",
    "    'W : V',\n",
    "]\n",
    "\n",
    "lst_q = [  # список введённых запросов\n",
    "    'A G',      # Yes   # A предок G через B/C, D, F\n",
    "    'A Z',      # No    # Y потомок A, но не Y\n",
    "    'A W',      # Yes   # A предок W через Y, V\n",
    "    'X W',      # Yes   # X предок W через Y, V\n",
    "    'X QWE',    # No    # нет такого класса QWE\n",
    "    'A X',      # No    # классы есть, но они нет родства :)\n",
    "    'X X',      # Yes   # родитель он же потомок\n",
    "    '1 1',      # No    # несуществующий класс\n",
    "]\n",
    "\n",
    "def fin(cl1, cl2):\n",
    "#     print('*****', cl1, cl2)\n",
    "    if cl1 not in classes:\n",
    "#         print('NOT')\n",
    "        return False\n",
    "    if cl1 == cl2:\n",
    "#         print('===')\n",
    "        return True\n",
    "    for i in classes[cl1]:\n",
    "        print('cl', i, cl2)\n",
    "        if i == cl2:\n",
    "            return True\n",
    "        if fin(i, cl2):\n",
    "            return True\n",
    "\n",
    "\n",
    "# n = int(input())\n",
    "n = len(lst_mro)\n",
    "classes = {}\n",
    "while n != 0:\n",
    "    n -= 1\n",
    "#     line = input().split(' ')\n",
    "    line = lst_mro[n].split(' ')\n",
    "    cl = line[0]\n",
    "    cs = []\n",
    "    if ':' in line:\n",
    "        cs = line[2::]\n",
    "    classes[cl] = cs\n",
    "\n",
    "# n = int(input())\n",
    "n = len(lst_q)\n",
    "while n != 0:\n",
    "    n -= 1\n",
    "#     c = input().split()\n",
    "    c = lst_q[n].split()\n",
    "    if fin(c[1], c[0]):\n",
    "        print(c[0], c[1], '---->', 'Yes')\n",
    "    else:\n",
    "        print(c[0], c[1], '---->', 'No')\n",
    "\n",
    "# A\n",
    "# B : A\n",
    "# C : A\n",
    "# D : B C\n",
    "# A B\n",
    "# B D\n",
    "# C D\n",
    "# D A\n",
    "#     'A G',      # Yes   # A предок G через B/C, D, F\n",
    "#     'A Z',      # No    # Y потомок A, но не Y\n",
    "#     'A W',      # Yes   # A предок W через Y, V\n",
    "#     'X W',      # Yes   # X предок W через Y, V\n",
    "#     'X QWE',    # No    # нет такого класса QWE\n",
    "#     'A X',      # No    # классы есть, но они нет родства :)\n",
    "#     'X X',      # Yes   # родитель он же потомок\n",
    "#     '1 1',      # No    # несуществующий класс"
   ]
  },
  {
   "cell_type": "code",
   "execution_count": 60,
   "metadata": {},
   "outputs": [
    {
     "name": "stdout",
     "output_type": "stream",
     "text": [
      "[1, 2, 3]\n",
      "15\n",
      "[6]\n",
      "40\n",
      "[]\n",
      "5\n",
      "5\n",
      "[1]\n"
     ]
    }
   ],
   "source": [
    "class Buffer:\n",
    "    def __init__(self):\n",
    "        self.sum = 0\n",
    "        self.bf = []\n",
    "\n",
    "    def add(self, *a):\n",
    "        if len(self.bf) < 5:\n",
    "            self.bf += a\n",
    "        if len(self.bf) >= 5:\n",
    "            for i in range(len(self.bf) // 5):\n",
    "                for j in range(5):\n",
    "                    self.sum += self.bf.pop(0)\n",
    "                print(self.sum)\n",
    "                self.sum = 0\n",
    "\n",
    "    def get_current_part(self):\n",
    "        print(self.bf)\n",
    "        \n",
    "buf = Buffer()\n",
    "buf.add(1, 2, 3)\n",
    "buf.get_current_part() # вернуть [1, 2, 3]\n",
    "buf.add(4, 5, 6) # print(15) – вывод суммы первой пятерки элементов\n",
    "buf.get_current_part() # вернуть [6]\n",
    "buf.add(7, 8, 9, 10) # print(40) – вывод суммы второй пятерки элементов\n",
    "buf.get_current_part() # вернуть []\n",
    "buf.add(1, 1, 1, 1, 1, 1, 1, 1, 1, 1, 1) # print(5), print(5) – вывод сумм третьей и четвертой пятерки\n",
    "buf.get_current_part() # вернуть [1]"
   ]
  },
  {
   "cell_type": "code",
   "execution_count": 45,
   "metadata": {},
   "outputs": [
    {
     "data": {
      "text/plain": [
       "False"
      ]
     },
     "execution_count": 45,
     "metadata": {},
     "output_type": "execute_result"
    }
   ],
   "source": [
    "class MoneyBox:\n",
    "    def __init__(self, capacity):\n",
    "        self.count = 0\n",
    "        self.cap = capacity\n",
    "    \n",
    "    def can_add(self, v):\n",
    "        if self.cap - self.count >= v:\n",
    "            return True\n",
    "        else:\n",
    "            return False\n",
    "    \n",
    "    def add(self, v):\n",
    "        self.count += v\n",
    "\n",
    "mb = MoneyBox(15)\n",
    "mb.can_add(10)\n",
    "mb.add(10)\n",
    "mb.can_add(10)"
   ]
  },
  {
   "cell_type": "code",
   "execution_count": 17,
   "metadata": {},
   "outputs": [
    {
     "name": "stdout",
     "output_type": "stream",
     "text": [
      "5\n",
      "add global a\n",
      "create foo global\n",
      "add foo b\n",
      "get foo a\n",
      "------> global\n",
      "get foo c\n",
      "------> None\n"
     ]
    }
   ],
   "source": [
    "itr = int(input())\n",
    "space = {'global':None}\n",
    "var = {'global': set()} \n",
    "def create(sName, parent):\n",
    "    space[sName] = parent\n",
    "    var[sName] = set()\n",
    "    return\n",
    "\n",
    "\n",
    "def add(nm, vr):\n",
    "    if nm in var:\n",
    "        var[nm].add(vr)\n",
    "    else:\n",
    "        var[nm] = set([vr])\n",
    "\n",
    "\n",
    "def get(nm, vr):\n",
    "    if nm == None:\n",
    "        return None\n",
    "    if vr in var[nm]:\n",
    "        return nm\n",
    "    else:\n",
    "        return get(space[nm], vr)\n",
    "\n",
    "\n",
    "while itr != 0:\n",
    "    itr -= 1\n",
    "    cmd, nSpace, varbl = input().split()\n",
    "    if cmd == 'create':\n",
    "        create(nSpace, varbl)\n",
    "    elif cmd == 'add':\n",
    "        add(nSpace, varbl)\n",
    "    elif cmd =='get':\n",
    "        print(get(nSpace, varbl))\n",
    "# print(space)\n",
    "# print(var)\n",
    "\n",
    "# add global a\n",
    "# create foo global\n",
    "# add foo b\n",
    "# get foo a       global\n",
    "# get foo c       None\n",
    "# create bar foo\n",
    "# add bar a\n",
    "# get bar a       bar\n",
    "# get bar b       foo"
   ]
  },
  {
   "cell_type": "code",
   "execution_count": 11,
   "metadata": {},
   "outputs": [
    {
     "name": "stdout",
     "output_type": "stream",
     "text": [
      "10 5\n",
      "252\n"
     ]
    }
   ],
   "source": [
    "def c(n, k):\n",
    "    # C(n, k) = C(n - 1, k) + C(n - 1, k - 1).\n",
    "    if k == 0:\n",
    "        return 1\n",
    "    if k > n:\n",
    "        return 0\n",
    "    return c(n - 1, k) + c(n - 1, k - 1)\n",
    "    \n",
    "n, k = map(int, input().split())\n",
    "print(c(n, k))\n"
   ]
  }
 ],
 "metadata": {
  "kernelspec": {
   "display_name": "Python 3",
   "language": "python",
   "name": "python3"
  },
  "language_info": {
   "codemirror_mode": {
    "name": "ipython",
    "version": 3
   },
   "file_extension": ".py",
   "mimetype": "text/x-python",
   "name": "python",
   "nbconvert_exporter": "python",
   "pygments_lexer": "ipython3",
   "version": "3.7.4"
  }
 },
 "nbformat": 4,
 "nbformat_minor": 2
}
